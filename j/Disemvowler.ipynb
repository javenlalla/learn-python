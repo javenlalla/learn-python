{
 "cells": [
  {
   "cell_type": "markdown",
   "metadata": {},
   "source": [
    "https://www.reddit.com/r/dailyprogrammer/comments/1ystvb/022414_challenge_149_easy_disemvoweler/"
   ]
  },
  {
   "cell_type": "code",
   "execution_count": 24,
   "metadata": {},
   "outputs": [
    {
     "name": "stdout",
     "output_type": "stream",
     "text": [
      "twdrmsndcymblfllffclff\n",
      "ouaaaaoai\n",
      "llthswhblvnpsychknssrsmyhnd\n",
      "aoeoeieeioieiaiea\n",
      "ddyhrbtthxcllntfrmrwhwststndngnhsfld\n",
      "ioueaaoueeeeaeoaouaiiiie\n"
     ]
    }
   ],
   "source": [
    "def disemvowler(string_to_shorten):\n",
    "    blacklist = ['a', 'e', 'i', 'o', 'u']\n",
    "    \n",
    "    vowels = ''\n",
    "    non_vowels = ''\n",
    "    for char in string_to_shorten:\n",
    "        if char == ' ':\n",
    "            continue\n",
    "        elif (char in blacklist):\n",
    "            vowels += char\n",
    "        else:\n",
    "            non_vowels += char\n",
    "    \n",
    "    print non_vowels\n",
    "    print vowels\n",
    "\n",
    "disemvowler('two drums and a cymbal fall off a cliff')\n",
    "disemvowler('all those who believe in psychokinesis raise my hand')\n",
    "disemvowler('did you hear about the excellent farmer who was outstanding in his field')"
   ]
  },
  {
   "cell_type": "markdown",
   "metadata": {},
   "source": [
    "**Input: two drums and a cymbal fall off a cliff**\n",
    "Expected result: \n",
    "twdrmsndcymblfllffclff\n",
    "ouaaaaoai\n",
    "\n",
    "**Input: all those who believe in psychokinesis raise my hand**\n",
    "Expected result: \n",
    "llthswhblvnpsychknssrsmyhnd\n",
    "aoeoeieeioieiaiea\n",
    "\n",
    "**Expected result: did you hear about the excellent farmer who was outstanding in his field**\n",
    "ddyhrbtthxcllntfrmrwhwststndngnhsfld\n",
    "ioueaaoueeeeaeoaouaiiiie"
   ]
  }
 ],
 "metadata": {
  "kernelspec": {
   "display_name": "Python 2",
   "language": "python",
   "name": "python2"
  },
  "language_info": {
   "codemirror_mode": {
    "name": "ipython",
    "version": 2
   },
   "file_extension": ".py",
   "mimetype": "text/x-python",
   "name": "python",
   "nbconvert_exporter": "python",
   "pygments_lexer": "ipython2",
   "version": "2.7.14"
  }
 },
 "nbformat": 4,
 "nbformat_minor": 2
}
