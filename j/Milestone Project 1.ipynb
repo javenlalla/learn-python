{
 "cells": [
  {
   "cell_type": "markdown",
   "metadata": {},
   "source": [
    "Milestone Project 1\n",
    "\n",
    "Tic-Tac-Toe"
   ]
  },
  {
   "cell_type": "code",
   "execution_count": 19,
   "metadata": {},
   "outputs": [
    {
     "ename": "SyntaxError",
     "evalue": "invalid syntax (<ipython-input-19-bf5e024a5c14>, line 8)",
     "output_type": "error",
     "traceback": [
      "\u001b[0;36m  File \u001b[0;32m\"<ipython-input-19-bf5e024a5c14>\"\u001b[0;36m, line \u001b[0;32m8\u001b[0m\n\u001b[0;31m    if (board[0][0] == board[0][1] == board[0][2]) or\u001b[0m\n\u001b[0m                                                     ^\u001b[0m\n\u001b[0;31mSyntaxError\u001b[0m\u001b[0;31m:\u001b[0m invalid syntax\n"
     ]
    }
   ],
   "source": [
    "board = [[\"_\",\"_\",\"_\"],[\"_\",\"_\",\"_\"],[\"_\",\"_\",\"_\"]]\n",
    "def print_board():\n",
    "    print board[0][0] , board[0][1] , board[0][2]\n",
    "    print board[1][0] , board[1][1] , board[1][2]\n",
    "    print board[2][0] , board[2][1] , board[2][2]\n",
    "\n",
    "def have_winner():\n",
    "    if (board[0][0] == board[0][1] == board[0][2]) or (board[0][0] == board[1][1] == board[2][2]) or (board[0][0] == board[1][0] == board[2][0]):\n",
    "        return board[0][0]\n",
    "    elif (board[0][1] == board[1][1] == board[2][1]) or (board[0][0] == board[1][1] == board[2][2]) or (board[0][0] == board[1][0] == board[2][0]):\n",
    "        return board[0][1]\n",
    "\n",
    "print_board()\n",
    "# name = raw_input(\"What is your name? \")\n",
    "print have_winner()"
   ]
  },
  {
   "cell_type": "code",
   "execution_count": null,
   "metadata": {},
   "outputs": [],
   "source": []
  }
 ],
 "metadata": {
  "kernelspec": {
   "display_name": "Python 2",
   "language": "python",
   "name": "python2"
  },
  "language_info": {
   "codemirror_mode": {
    "name": "ipython",
    "version": 2
   },
   "file_extension": ".py",
   "mimetype": "text/x-python",
   "name": "python",
   "nbconvert_exporter": "python",
   "pygments_lexer": "ipython2",
   "version": "2.7.14"
  }
 },
 "nbformat": 4,
 "nbformat_minor": 2
}
