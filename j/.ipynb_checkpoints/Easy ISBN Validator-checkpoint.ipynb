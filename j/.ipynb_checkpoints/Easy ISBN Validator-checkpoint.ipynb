{
 "cells": [
  {
   "cell_type": "markdown",
   "metadata": {},
   "source": [
    "https://www.reddit.com/r/dailyprogrammer/comments/2s7ezp/20150112_challenge_197_easy_isbn_validator/"
   ]
  },
  {
   "cell_type": "code",
   "execution_count": 15,
   "metadata": {},
   "outputs": [
    {
     "name": "stdout",
     "output_type": "stream",
     "text": [
      "Valid ISBN\n",
      "Valid ISBN\n",
      "Valid ISBN\n",
      "Valid ISBN\n"
     ]
    }
   ],
   "source": [
    "def validator(isbn):\n",
    "    \n",
    "    multiplier = 10\n",
    "    sum = 0\n",
    "    for char in isbn:\n",
    "        if char.lower() == 'x':\n",
    "            char = '10'\n",
    "        if char.isdigit():\n",
    "            if char.lower() == 'x':\n",
    "                num = 10\n",
    "            else:\n",
    "                num = int(char)\n",
    "            sum += num * multiplier\n",
    "            multiplier -= 1\n",
    "            \n",
    "    if sum % 11 == 0:\n",
    "        print \"Valid ISBN\"\n",
    "    else:\n",
    "        print \"Invalid ISBN\"\n",
    "\n",
    "validator('0-7475-3269-9')\n",
    "validator('0672337940')\n",
    "validator('0134687477')\n",
    "validator('156881111X')"
   ]
  },
  {
   "cell_type": "code",
   "execution_count": null,
   "metadata": {},
   "outputs": [],
   "source": []
  }
 ],
 "metadata": {
  "kernelspec": {
   "display_name": "Python 2",
   "language": "python",
   "name": "python2"
  },
  "language_info": {
   "codemirror_mode": {
    "name": "ipython",
    "version": 2
   },
   "file_extension": ".py",
   "mimetype": "text/x-python",
   "name": "python",
   "nbconvert_exporter": "python",
   "pygments_lexer": "ipython2",
   "version": "2.7.14"
  }
 },
 "nbformat": 4,
 "nbformat_minor": 2
}
