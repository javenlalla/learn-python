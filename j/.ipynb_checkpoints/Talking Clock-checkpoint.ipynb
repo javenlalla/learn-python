{
 "cells": [
  {
   "cell_type": "markdown",
   "metadata": {},
   "source": [
    "https://www.reddit.com/r/dailyprogrammer/comments/6jr76h/20170627_challenge_321_easy_talking_clock/"
   ]
  },
  {
   "cell_type": "code",
   "execution_count": 88,
   "metadata": {},
   "outputs": [
    {
     "name": "stdout",
     "output_type": "stream",
     "text": [
      "It's twelve AM\n"
     ]
    }
   ],
   "source": [
    "def talking_clock(time):\n",
    "    \n",
    "    double_digit_word = {20: 'twenty', 30: 'thirty', 40: 'fourty', 50: 'fifty'}\n",
    "    single_digit_word = {1: 'one', 2: 'two', 3: 'three', 4: 'four', 5: 'five', 6: 'six', 7: 'seven', 8: 'eight', 9: 'nine'}\n",
    "    translations = {\n",
    "        0: 'twelve',\n",
    "        1: 'one',\n",
    "        2: 'two',\n",
    "        3: 'three',\n",
    "        4: 'four',\n",
    "        5: 'five',\n",
    "        6: 'six',\n",
    "        7: 'seven',\n",
    "        8: 'eight',\n",
    "        9: 'nine',\n",
    "        10: 'ten',\n",
    "        11: 'eleven',\n",
    "        12: 'twelve',\n",
    "        13: 'thirteen',\n",
    "        14: 'fourteen',\n",
    "        14: 'fourteen',\n",
    "        15: 'fifteen',\n",
    "        16: 'sixteen',\n",
    "        17: 'seventeen',\n",
    "        18: 'eightteen',\n",
    "        19: 'nineteen'\n",
    "    }\n",
    "    \n",
    "    for i in double_digit_word:\n",
    "        translations[int(i)] = double_digit_word[i]\n",
    "        for x in single_digit_word:\n",
    "            translations[int(i+x)] = '%s-%s' % (double_digit_word[i], single_digit_word[x])\n",
    "            \n",
    "    time_parts = time.split(':')\n",
    "    hour = time_parts[0]\n",
    "    realhour = int(hour)\n",
    "    minute = time_parts[1]\n",
    "    realminute = int(minute)\n",
    "    \n",
    "    if realhour >= 12:\n",
    "        ampm = 'PM'\n",
    "        if realhour > 12:\n",
    "            realhour = realhour - 12\n",
    "    else:\n",
    "        ampm = 'AM'\n",
    "        \n",
    "    if realminute == 0:\n",
    "        realminutetext = ''\n",
    "    elif realminute >= 1 and realminute <= 9:\n",
    "        realminutetext = 'oh ' + translations[realminute]\n",
    "    else:\n",
    "        realminutetext = translations[realminute]\n",
    "    \n",
    "    speech = 'It\\'s %s %s %s' % (translations[realhour], realminutetext, ampm)\n",
    "    speech = speech.replace('  ', ' ')\n",
    "    \n",
    "    print speech\n",
    "    \n",
    "talking_clock('00:00')\n",
    "    "
   ]
  }
 ],
 "metadata": {
  "kernelspec": {
   "display_name": "Python 2",
   "language": "python",
   "name": "python2"
  },
  "language_info": {
   "codemirror_mode": {
    "name": "ipython",
    "version": 2
   },
   "file_extension": ".py",
   "mimetype": "text/x-python",
   "name": "python",
   "nbconvert_exporter": "python",
   "pygments_lexer": "ipython2",
   "version": "2.7.14"
  }
 },
 "nbformat": 4,
 "nbformat_minor": 2
}
