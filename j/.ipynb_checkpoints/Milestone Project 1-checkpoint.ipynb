{
 "cells": [
  {
   "cell_type": "markdown",
   "metadata": {},
   "source": [
    "Milestone Project 1\n",
    "\n",
    "Tic-Tac-Toe"
   ]
  },
  {
   "cell_type": "code",
   "execution_count": null,
   "metadata": {},
   "outputs": [
    {
     "name": "stdout",
     "output_type": "stream",
     "text": [
      "Where would you like to place a marker (coordinates)?1,2\n",
      "_ _ _\n",
      "_ _ x\n",
      "_ _ _\n",
      "Where would you like to place a marker (coordinates)?0,1\n",
      "_ x _\n",
      "_ _ x\n",
      "_ _ _\n",
      "Where would you like to place a marker (coordinates)?2,1\n",
      "_ x _\n",
      "_ _ x\n",
      "_ x _\n",
      "Where would you like to place a marker (coordinates)?2,2\n",
      "_ x _\n",
      "_ _ x\n",
      "_ x x\n",
      "Where would you like to place a marker (coordinates)?0,2\n",
      "_ x x\n",
      "_ _ x\n",
      "_ x x\n"
     ]
    }
   ],
   "source": [
    "board = [[\"_\",\"_\",\"_\"],[\"_\",\"_\",\"_\"],[\"_\",\"_\",\"_\"]]\n",
    "\n",
    "def print_board():\n",
    "    print board[0][0] , board[0][1] , board[0][2]\n",
    "    print board[1][0] , board[1][1] , board[1][2]\n",
    "    print board[2][0] , board[2][1] , board[2][2]\n",
    "\n",
    "def have_winner():\n",
    "    if (board[0][0] == \"_\"):\n",
    "        return False\n",
    "    if (board[0][0] == board[0][1] == board[0][2]) or (board[0][0] == board[1][1] == board[2][2]) or (board[0][0] == board[1][0] == board[2][0]):\n",
    "        if (board[0][0] == \"x\"):\n",
    "            return \"x\"\n",
    "        else:\n",
    "            return \"o\"\n",
    "    else:\n",
    "        return False\n",
    "\n",
    "    \n",
    "    \n",
    "def play_game():\n",
    "    while (have_winner() == False):\n",
    "        get_move()\n",
    "        \n",
    "\n",
    "def get_move():\n",
    "    coord = raw_input(\"Where would you like to place a marker (coordinates)?\")\n",
    "    position = coord.split(\",\")\n",
    "    board[int(position[0])][int(position[1])] = \"x\"\n",
    "    print_board()  \n",
    "        \n",
    "play_game()\n",
    "print \"here\""
   ]
  },
  {
   "cell_type": "code",
   "execution_count": null,
   "metadata": {},
   "outputs": [],
   "source": []
  }
 ],
 "metadata": {
  "kernelspec": {
   "display_name": "Python 2",
   "language": "python",
   "name": "python2"
  }
 },
 "nbformat": 4,
 "nbformat_minor": 2
}
